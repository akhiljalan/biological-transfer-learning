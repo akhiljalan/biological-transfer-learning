{
 "cells": [
  {
   "cell_type": "code",
   "execution_count": 5,
   "id": "621e1cfb",
   "metadata": {},
   "outputs": [],
   "source": [
    "def cracklepop(): \n",
    "    for num in range(1, 101): \n",
    "        modulus = num % 15 \n",
    "        if modulus == 0: \n",
    "            print(\"CracklePop\") \n",
    "        elif modulus % 3 == 0: \n",
    "            print(\"Crackle\")\n",
    "        elif modulus % 5 == 0: \n",
    "            print(\"Pop\")\n",
    "        else: \n",
    "            print(num)"
   ]
  },
  {
   "cell_type": "code",
   "execution_count": null,
   "id": "4216b06c",
   "metadata": {},
   "outputs": [],
   "source": []
  }
 ],
 "metadata": {
  "kernelspec": {
   "display_name": "base",
   "language": "python",
   "name": "python3"
  },
  "language_info": {
   "codemirror_mode": {
    "name": "ipython",
    "version": 3
   },
   "file_extension": ".py",
   "mimetype": "text/x-python",
   "name": "python",
   "nbconvert_exporter": "python",
   "pygments_lexer": "ipython3",
   "version": "3.9.7"
  }
 },
 "nbformat": 4,
 "nbformat_minor": 5
}
